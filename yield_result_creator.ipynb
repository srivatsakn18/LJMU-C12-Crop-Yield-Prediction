{
 "cells": [
  {
   "cell_type": "code",
   "execution_count": null,
   "metadata": {},
   "outputs": [],
   "source": [
    "import pandas as pd"
   ]
  },
  {
   "cell_type": "code",
   "execution_count": null,
   "metadata": {},
   "outputs": [],
   "source": [
    "#Every State Data is pulled into a separate CSV manually\n",
    "df = pd.read_csv(\"test.csv\")"
   ]
  },
  {
   "cell_type": "code",
   "execution_count": null,
   "metadata": {},
   "outputs": [],
   "source": [
    "df"
   ]
  },
  {
   "cell_type": "code",
   "execution_count": null,
   "metadata": {},
   "outputs": [],
   "source": [
    "#To calculate actual Production\n",
    "df[\"rkap\"] = df[\"rky\"] * df[\"rka\"]\n",
    "df[\"rrap\"] = df[\"rry\"] * df[\"rra\"]\n",
    "df[\"raap\"] = df[\"ray\"] * df[\"raa\"]\n",
    "df[\"rwap\"] = df[\"rwy\"] * df[\"rwa\"]\n",
    "df[\"rsap\"] = df[\"rsy\"] * df[\"rsa\"]\n",
    "df[\"wrap\"] = df[\"wry\"] * df[\"wra\"]\n",
    "df[\"wkap\"] = df[\"wky\"] * df[\"wka\"]\n",
    "df[\"wwap\"] = df[\"wwy\"] * df[\"wwa\"]"
   ]
  },
  {
   "cell_type": "code",
   "execution_count": null,
   "metadata": {},
   "outputs": [],
   "source": [
    "#test frame\n",
    "df1 = df.loc[df[\"Year\"]==\"2014 - 2015\"]\n",
    "df1"
   ]
  },
  {
   "cell_type": "code",
   "execution_count": null,
   "metadata": {},
   "outputs": [],
   "source": [
    "arr = df[\"Year\"].unique()\n",
    "arr.sort()\n",
    "print(arr)"
   ]
  },
  {
   "cell_type": "code",
   "execution_count": null,
   "metadata": {},
   "outputs": [],
   "source": [
    "#To calculate actual Yield\n",
    "cols = [\"Year\", \"Crop\", \"Season\", \"Area\", \"Production\", \"Yeild1\", \"Yeild2\"]\n",
    "result = pd.DataFrame(columns=cols)\n",
    "\n",
    "arr = df[\"Year\"].unique()\n",
    "arr.sort()\n",
    "\n",
    "for x in arr:\n",
    "    df1 = df.loc[df[\"Year\"]==x]\n",
    "    #rka\n",
    "    if df1[\"rky\"].count() != 0:\n",
    "        rkas = df1[\"rka\"].sum()\n",
    "        rkps = df1[\"rkp\"].sum()\n",
    "        rkya1 = df1[\"rkap\"].sum()/df1[\"rka\"].sum()\n",
    "        rkya2 = df1[\"rky\"].sum()/df1[\"rky\"].count()\n",
    "        new_row = {\"Year\": x, \"Crop\": \"Rice\", \"Season\": \"Kharif\", \"Area\": rkas, \"Production\": rkps, \"Yeild1\": rkya1, \"Yeild2\": rkya2}\n",
    "        result = pd.concat([result, pd.DataFrame([new_row])], ignore_index=True)\n",
    "    \n",
    "    #rra\n",
    "    if df1[\"rry\"].count() != 0:\n",
    "        rras = df1[\"rra\"].sum()\n",
    "        rrps = df1[\"rrp\"].sum()\n",
    "        rrya1 = df1[\"rrap\"].sum()/df1[\"rra\"].sum()\n",
    "        rrya2 = df1[\"rry\"].sum()/df1[\"rry\"].count()\n",
    "        new_row = {\"Year\": x, \"Crop\": \"Rice\", \"Season\": \"Rabi\", \"Area\": rras, \"Production\": rrps, \"Yeild1\": rrya1, \"Yeild2\": rrya2}\n",
    "        result = pd.concat([result, pd.DataFrame([new_row])], ignore_index=True)\n",
    "    \n",
    "    #Raa\n",
    "    if df1[\"raa\"].count() != 0:\n",
    "        raas = df1[\"raa\"].sum()\n",
    "        raps = df1[\"rap\"].sum()\n",
    "        raya1 = df1[\"raap\"].sum()/df1[\"raa\"].sum()\n",
    "        raya2 = df1[\"ray\"].sum()/df1[\"ray\"].count()\n",
    "        new_row = {\"Year\": x, \"Crop\": \"Rice\", \"Season\": \"Autumn\", \"Area\": raas, \"Production\": raps, \"Yeild1\": raya1, \"Yeild2\": raya2}\n",
    "        result = pd.concat([result, pd.DataFrame([new_row])], ignore_index=True)\n",
    "    \n",
    "    #rwa\n",
    "    if df1[\"rwa\"].count() != 0:\n",
    "        rwas = df1[\"rwa\"].sum()\n",
    "        rwps = df1[\"rwp\"].sum()\n",
    "        rwya1 = df1[\"rwap\"].sum()/df1[\"rwa\"].sum()\n",
    "        rwya2 = df1[\"rwy\"].sum()/df1[\"rwy\"].count()\n",
    "        new_row = {\"Year\": x, \"Crop\": \"Rice\", \"Season\": \"Winter\", \"Area\": rwas, \"Production\": rwps, \"Yeild1\": rwya1, \"Yeild2\": rwya2}\n",
    "        result = pd.concat([result, pd.DataFrame([new_row])], ignore_index=True)\n",
    "\n",
    "    #rsa\n",
    "    if df1[\"rsa\"].count() != 0:\n",
    "        rsas = df1[\"rsa\"].sum()\n",
    "        rsps = df1[\"rsp\"].sum()\n",
    "        rsya1 = df1[\"rsap\"].sum()/df1[\"rsa\"].sum()\n",
    "        rsya2 = df1[\"rsy\"].sum()/df1[\"rsy\"].count()\n",
    "        new_row = {\"Year\": x, \"Crop\": \"Rice\", \"Season\": \"Summer\", \"Area\": rsas, \"Production\": rsps, \"Yeild1\": rsya1, \"Yeild2\": rsya2}\n",
    "        result = pd.concat([result, pd.DataFrame([new_row])], ignore_index=True)\n",
    "    \n",
    "    #wra\n",
    "    if df1[\"wra\"].count() != 0:\n",
    "        wras = df1[\"wra\"].sum()\n",
    "        wrps = df1[\"wrp\"].sum()\n",
    "        wrya1 = df1[\"wrap\"].sum()/df1[\"wra\"].sum()\n",
    "        wrya2 = df1[\"wry\"].sum()/df1[\"wry\"].count()\n",
    "        new_row = {\"Year\": x, \"Crop\": \"Wheat\", \"Season\": \"Rabi\", \"Area\": wras, \"Production\": wrps, \"Yeild1\": wrya1, \"Yeild2\": wrya2}\n",
    "        result = pd.concat([result, pd.DataFrame([new_row])], ignore_index=True)\n",
    "        \n",
    "    #wka\n",
    "    if df1[\"wka\"].count() != 0:\n",
    "        wkas = df1[\"wka\"].sum()\n",
    "        wkps = df1[\"wkp\"].sum()\n",
    "        wkya1 = df1[\"wkap\"].sum()/df1[\"wka\"].sum()\n",
    "        wkya2 = df1[\"wky\"].sum()/df1[\"wky\"].count()\n",
    "        new_row = {\"Year\": x, \"Crop\": \"Wheat\", \"Season\": \"Kharif\", \"Area\": wkas, \"Production\": wkps, \"Yeild1\": wkya1, \"Yeild2\": wkya2}\n",
    "        result = pd.concat([result, pd.DataFrame([new_row])], ignore_index=True)\n",
    "        \n",
    "    #wwa\n",
    "    if df1[\"wwa\"].count() != 0:\n",
    "        wwas = df1[\"wwa\"].sum()\n",
    "        wwps = df1[\"wwp\"].sum()\n",
    "        wwya1 = df1[\"wwap\"].sum()/df1[\"wwa\"].sum()\n",
    "        wwya2 = df1[\"wwy\"].sum()/df1[\"wwy\"].count()\n",
    "        new_row = {\"Year\": x, \"Crop\": \"Wheat\", \"Season\": \"Winter\", \"Area\": wwas, \"Production\": wwps, \"Yeild1\": wwya1, \"Yeild2\": wwya2}\n",
    "        result = pd.concat([result, pd.DataFrame([new_row])], ignore_index=True)"
   ]
  },
  {
   "cell_type": "code",
   "execution_count": null,
   "metadata": {},
   "outputs": [],
   "source": [
    "#Yield1 -> Actual Yield; #Yield2 -> Average Yield to check if the difference is not huge and the validate the formula\n",
    "result[\"Diff\"] = (result[\"Yeild1\"] - result[\"Yeild2\"]).abs()\n",
    "result"
   ]
  },
  {
   "cell_type": "code",
   "execution_count": null,
   "metadata": {},
   "outputs": [],
   "source": [
    "#Final Result\n",
    "result.iloc[:, :6]"
   ]
  }
 ],
 "metadata": {
  "kernelspec": {
   "display_name": "Python 3",
   "language": "python",
   "name": "python3"
  },
  "language_info": {
   "codemirror_mode": {
    "name": "ipython",
    "version": 3
   },
   "file_extension": ".py",
   "mimetype": "text/x-python",
   "name": "python",
   "nbconvert_exporter": "python",
   "pygments_lexer": "ipython3",
   "version": "3.8.5"
  }
 },
 "nbformat": 4,
 "nbformat_minor": 5
}
